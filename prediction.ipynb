{
 "cells": [
  {
   "cell_type": "code",
   "execution_count": 31,
   "id": "8aada4d5-6ff6-467f-ae0e-42c866b9ad95",
   "metadata": {},
   "outputs": [],
   "source": [
    "import pandas as pd \n",
    "import numpy as np\n",
    "import glob\n",
    "import cv2 as cv\n",
    "import os\n",
    "import json\n",
    "import imgaug.augmenters as iaa\n",
    "import matplotlib.pyplot as plt\n",
    "\n",
    "from pathlib import Path\n",
    "from tqdm.auto import tqdm\n",
    "from sklearn.model_selection import train_test_split\n",
    "\n",
    "\n",
    "import torch\n",
    "import torch.nn as nn\n",
    "import torch.optim as optim\n",
    "\n",
    "from torch.utils.data import Dataset\n",
    "from torchvision import datasets, models, transforms\n",
    "from torchvision.models import resnet18\n",
    "from PIL import Image\n",
    "from IPython.display import clear_output\n",
    "\n",
    "\n",
    "from core.model import BaselineModel, BaselineWithOriginalAttentionModel\n",
    "from core.dataset import PredictImageDataset\n",
    "from core.utils import sc_to_angle\n",
    "\n",
    "\n",
    "\n",
    "from run_train import orig_transform, valid_transform"
   ]
  },
  {
   "cell_type": "code",
   "execution_count": 32,
   "id": "952dc2cd-7ed9-4cfd-b324-c858b284742c",
   "metadata": {},
   "outputs": [],
   "source": [
    "# transform = transforms.Compose([\n",
    "#     transforms.ToTensor(),\n",
    "#     transforms.Resize(224),\n",
    "#     transforms.Normalize(\n",
    "#         mean=[0.485, 0.456, 0.406],\n",
    "#         std=[0.229, 0.224, 0.225]),\n",
    "# ])\n",
    "\n",
    "\n",
    "def read_img(p, scale=4, tf=valid_transform):\n",
    "    im = Image.open(p)\n",
    "    linear, _ = im.size\n",
    "    im = np.array(im.resize((linear // scale, linear // scale)))\n",
    "    im = tf(im).unsqueeze(0).to(device).float()\n",
    "    return im\n",
    "\n",
    "\n",
    "def process_output(out):\n",
    "    x, y, s, c = out.detach().cpu().numpy()\n",
    "    x = int(round((x + 1) / 2. * 10496))\n",
    "    y = int(round((y + 1) / 2. * 10496))\n",
    "    return x, y, s.item(), c.item()"
   ]
  },
  {
   "cell_type": "code",
   "execution_count": 33,
   "id": "33e4183d-ef0d-484f-a1cb-00bcb2044e75",
   "metadata": {},
   "outputs": [],
   "source": [
    "device = 'cuda:0'"
   ]
  },
  {
   "cell_type": "code",
   "execution_count": 34,
   "id": "8dbc0e3c-76ad-4dcc-ad3d-3194ce924e3b",
   "metadata": {},
   "outputs": [],
   "source": [
    "# BaselineWithOriginalAttentionModel(out_ch=4, attn_dim=512)\n",
    "# 'best_vanilla_crossattn_500_epoch.pt'"
   ]
  },
  {
   "cell_type": "code",
   "execution_count": 35,
   "id": "c72353c2-a0cf-466c-8595-16830310074b",
   "metadata": {},
   "outputs": [
    {
     "name": "stdout",
     "output_type": "stream",
     "text": [
      "\n"
     ]
    }
   ],
   "source": [
    "model_path = 'models/best_model.pt'\n",
    "\n",
    "ckpt = torch.load(model_path)\n",
    "model = BaselineModel(out_ch=5, pretrained=False)\n",
    "model.load_state_dict(ckpt, strict=True)\n",
    "model.to(device)\n",
    "model.eval()\n",
    "\n",
    "print()"
   ]
  },
  {
   "cell_type": "code",
   "execution_count": 36,
   "id": "23dd59d7-b224-4e49-aaff-b509d69640ff",
   "metadata": {},
   "outputs": [],
   "source": [
    "def center_angle_to_default(c, deg_angle):\n",
    "    cc = np.array(c)\n",
    "    \n",
    "    rad_angle = np.deg2rad(deg_angle)\n",
    "    M = np.array([\n",
    "        [np.cos(rad_angle), -np.sin(rad_angle)],\n",
    "        [np.sin(rad_angle), np.cos(rad_angle)]\n",
    "    ])\n",
    "\n",
    "    \n",
    "    lb = cc + M @ np.array([-512, 512]) # left bottom\n",
    "    lt = cc + M @ np.array([-512, -512]) # left top\n",
    "    rt = cc + M @ np.array([512, -512]) # right top\n",
    "    rb = cc + M @ np.array([512, 512]) # right bottom\n",
    "    \n",
    "    \n",
    "    return {\n",
    "        'left_top': np.round(lt).astype(np.int32).tolist(), \n",
    "        'right_top': np.round(rt).astype(np.int32).tolist(),\n",
    "        'left_bottom': np.round(lb).astype(np.int32).tolist(),\n",
    "        'right_bottom': np.round(rb).astype(np.int32).tolist(),\n",
    "        'angle': deg_angle\n",
    "    }\n",
    "\n",
    "\n",
    "def default_to_center_angle(obj):\n",
    "    center = (\n",
    "        np.array(obj['left_top']) + \\\n",
    "        np.array(obj['right_bottom']) + \\\n",
    "        np.array(obj['left_bottom']) + \\\n",
    "        np.array(obj['right_top'])\n",
    "    ) / 4\n",
    "    \n",
    "    return np.array(center.tolist() + [np.deg2rad(obj['angle'])])\n",
    "\n",
    "\n",
    "def read_img_data(path):\n",
    "    with open(path, 'r') as f:\n",
    "        obj = json.load(f)\n",
    "    \n",
    "    \n",
    "    return obj, default_to_center_angle(obj)"
   ]
  },
  {
   "cell_type": "code",
   "execution_count": 37,
   "id": "796c3d2e-02a5-4a94-9310-14050b3a3978",
   "metadata": {},
   "outputs": [
    {
     "data": {
      "text/plain": [
       "({'left_top': [8533, 2184],\n",
       "  'right_top': [9501, 1851],\n",
       "  'left_bottom': [8866, 3152],\n",
       "  'right_bottom': [9834, 2819],\n",
       "  'angle': 341},\n",
       " 9183.5,\n",
       " 2501.5,\n",
       " 5.951572749300664)"
      ]
     },
     "execution_count": 37,
     "metadata": {},
     "output_type": "execute_result"
    }
   ],
   "source": [
    "path = 'train/json/1.json'\n",
    "\n",
    "obj, (x, y, angle) = read_img_data(path)\n",
    "\n",
    "obj, x, y, angle"
   ]
  },
  {
   "cell_type": "code",
   "execution_count": 38,
   "id": "d3efbaa1-be0f-44d1-b53f-0b0b47b090ba",
   "metadata": {},
   "outputs": [
    {
     "name": "stdout",
     "output_type": "stream",
     "text": [
      "left_top [-511.69194439 -511.98423223]\n",
      "right_top [ 511.98423223 -511.69194439]\n",
      "left_bottom [-511.98423223  511.69194439]\n",
      "right_bottom [511.69194439 511.98423223]\n"
     ]
    }
   ],
   "source": [
    "for k, value in obj.items():\n",
    "    if k == 'angle':\n",
    "        continue\n",
    "    \n",
    "    initial = np.array(value) - np.array([x, y])\n",
    "    \n",
    "    M = np.array([\n",
    "        [np.cos(angle), np.sin(angle)],\n",
    "        [-np.sin(angle), np.cos(angle)]\n",
    "    ])\n",
    "    \n",
    "    print(k, M @ initial)"
   ]
  },
  {
   "cell_type": "code",
   "execution_count": 39,
   "id": "87e11408-8809-4168-a810-bfc76b2cff88",
   "metadata": {},
   "outputs": [
    {
     "data": {
      "text/plain": [
       "({'left_top': [8533, 2184],\n",
       "  'right_top': [9501, 1851],\n",
       "  'left_bottom': [8866, 3152],\n",
       "  'right_bottom': [9834, 2819],\n",
       "  'angle': 341},\n",
       " {'left_top': [8533, 2184],\n",
       "  'right_top': [9501, 1851],\n",
       "  'left_bottom': [8866, 3152],\n",
       "  'right_bottom': [9834, 2819],\n",
       "  'angle': 341.0})"
      ]
     },
     "execution_count": 39,
     "metadata": {},
     "output_type": "execute_result"
    }
   ],
   "source": [
    "restored_obj = center_angle_to_default([x, y], np.rad2deg(angle))\n",
    "\n",
    "obj, restored_obj"
   ]
  },
  {
   "cell_type": "code",
   "execution_count": 40,
   "id": "193a70e3-fdd6-4c3b-a920-87fd50e3db05",
   "metadata": {},
   "outputs": [
    {
     "data": {
      "text/plain": [
       "(9183.5, 2501.5, 341.0)"
      ]
     },
     "execution_count": 40,
     "metadata": {},
     "output_type": "execute_result"
    }
   ],
   "source": [
    "x, y, rad = default_to_center_angle(restored_obj)\n",
    "x, y, np.rad2deg(rad)"
   ]
  },
  {
   "cell_type": "code",
   "execution_count": 41,
   "id": "65270929-db6f-4b3a-bc4d-339fb086ae5a",
   "metadata": {},
   "outputs": [],
   "source": [
    "# p = 'test_images/3.png'\n",
    "# im = read_img(p)\n",
    "orig_im = read_img('original.tiff', tf=orig_transform)"
   ]
  },
  {
   "cell_type": "code",
   "execution_count": 42,
   "id": "622419b7-7f51-4719-ba11-62bfb0d9c4cf",
   "metadata": {},
   "outputs": [],
   "source": [
    "dataset = PredictImageDataset('test_images', transform=valid_transform)\n",
    "pred_loader = torch.utils.data.DataLoader(dataset, batch_size=8, num_workers=8, pin_memory=True)"
   ]
  },
  {
   "cell_type": "code",
   "execution_count": 43,
   "id": "55d52a48-cf02-4c5b-a382-558d5a1bd51d",
   "metadata": {},
   "outputs": [
    {
     "data": {
      "application/vnd.jupyter.widget-view+json": {
       "model_id": "2fada63b2cc24cafa76ca3ca7b1bb521",
       "version_major": 2,
       "version_minor": 0
      },
      "text/plain": [
       "  0%|          | 0/50 [00:00<?, ?it/s]"
      ]
     },
     "metadata": {},
     "output_type": "display_data"
    }
   ],
   "source": [
    "results = {}\n",
    "out_type = 'xyxya'\n",
    "\n",
    "for names, imgs in tqdm(pred_loader):\n",
    "    imgs = imgs.to(device).float()\n",
    "    out = model(orig_im, imgs)\n",
    "    out = out.cpu().detach().numpy()\n",
    "    \n",
    "    if out_type == 'xyxya':\n",
    "        out = np.clip(out, 0, 1)\n",
    "        \n",
    "        ltxy = out[:, :2] * 10496\n",
    "        rbxy = out[:, 2:4] * 10496\n",
    "        \n",
    "        xy = (ltxy + rbxy) / 2\n",
    "        angle = np.rad2deg(out[:, 4] * 2 * np.pi)\n",
    "        \n",
    "    else:\n",
    "        xy = np.round((out[:, :2] + 1) / 2 * 10496).astype(np.int32)\n",
    "        angle = sc_to_angle(out[:, 2], out[:, 3])\n",
    "        # angle = np.rad2deg(((out[:, 2]) + 1) * np.pi).astype(np.int32)\n",
    "    pred = np.hstack([xy, np.expand_dims(angle, 1)])\n",
    "    \n",
    "    for idx, name in enumerate(names):\n",
    "        results[name] = center_angle_to_default(pred[idx, :2].tolist(), pred[idx, 2])"
   ]
  },
  {
   "cell_type": "code",
   "execution_count": 10,
   "id": "9f6d5bec-c989-4d7f-87fb-9ba9af392762",
   "metadata": {},
   "outputs": [],
   "source": [
    "def read_submit(root):\n",
    "    res = {}\n",
    "    \n",
    "    for p in Path(root).iterdir():\n",
    "        with p.open('r') as f:\n",
    "            obj = json.load(f)\n",
    "        \n",
    "        res[p.stem] = obj\n",
    "    return res"
   ]
  },
  {
   "cell_type": "code",
   "execution_count": 44,
   "id": "176906a5-8b4a-4ced-9602-6bc86763921f",
   "metadata": {},
   "outputs": [],
   "source": [
    "!rm submit/*"
   ]
  },
  {
   "cell_type": "code",
   "execution_count": 45,
   "id": "fa133585-115e-4b2c-b255-a78a5a278824",
   "metadata": {},
   "outputs": [],
   "source": [
    "fin = {}\n",
    "\n",
    "for name, obj in results.items():\n",
    "    obj['angle'] = int(round(obj['angle']))\n",
    "    fin[name] = obj"
   ]
  },
  {
   "cell_type": "code",
   "execution_count": 46,
   "id": "4a77d5e5-ac30-4d28-9587-751ea7cd405c",
   "metadata": {},
   "outputs": [],
   "source": [
    "for k, data in fin.items():\n",
    "    name = f'submit/{k}.json'\n",
    "    \n",
    "    \n",
    "    with open(name, 'w') as f:\n",
    "        f.write(json.dumps(data))"
   ]
  },
  {
   "cell_type": "code",
   "execution_count": 19,
   "id": "40960e7a-8909-4625-8d34-f5db7756133d",
   "metadata": {},
   "outputs": [
    {
     "name": "stdout",
     "output_type": "stream",
     "text": [
      "/bin/bash: zip: command not found\n"
     ]
    }
   ],
   "source": [
    "!zip -r sub.zip submit/*.json"
   ]
  },
  {
   "cell_type": "code",
   "execution_count": null,
   "id": "a3a2e6dd-c3f5-4361-ae90-dedcb84e3573",
   "metadata": {},
   "outputs": [],
   "source": []
  }
 ],
 "metadata": {
  "kernelspec": {
   "display_name": "Python 3 (ipykernel)",
   "language": "python",
   "name": "python3"
  },
  "language_info": {
   "codemirror_mode": {
    "name": "ipython",
    "version": 3
   },
   "file_extension": ".py",
   "mimetype": "text/x-python",
   "name": "python",
   "nbconvert_exporter": "python",
   "pygments_lexer": "ipython3",
   "version": "3.7.12"
  }
 },
 "nbformat": 4,
 "nbformat_minor": 5
}
